{
 "cells": [
  {
   "cell_type": "code",
   "execution_count": null,
   "id": "41e5b868",
   "metadata": {},
   "outputs": [],
   "source": [
    "import pandas as pd"
   ]
  },
  {
   "cell_type": "code",
   "execution_count": null,
   "id": "c3033382",
   "metadata": {},
   "outputs": [],
   "source": [
    "df = pd.read_excel('files/inconsistencias-shipped_at.xlsx')\n",
    "df"
   ]
  },
  {
   "cell_type": "code",
   "execution_count": null,
   "id": "6929474f",
   "metadata": {},
   "outputs": [],
   "source": [
    "df = df.sort_values(by=\"bundle_id\", ascending=False)"
   ]
  },
  {
   "cell_type": "code",
   "execution_count": null,
   "id": "6fd5c59d",
   "metadata": {},
   "outputs": [],
   "source": [
    "import http.client\n",
    "import json\n",
    "\n",
    "from dotenv import load_dotenv\n",
    "import os\n",
    "\n",
    "load_dotenv()\n",
    "\n",
    "# only correios\n",
    "import xmltodict\n"
   ]
  },
  {
   "cell_type": "code",
   "execution_count": null,
   "id": "cb9d3e45",
   "metadata": {},
   "outputs": [],
   "source": [
    "def jadlog(code: str) -> bool:\n",
    "    conn = http.client.HTTPSConnection(\"www.jadlog.com.br\")\n",
    "\n",
    "    headersList = {\n",
    "        \"Authorization\": \"Bearer %s\" % os.getenv('JADLOG_TOKEN'),\n",
    "        \"Content-Type\": \"application/json\" \n",
    "    }\n",
    "\n",
    "    payload = json.dumps({\"consulta\": [{\"shipmentId\": code}]})\n",
    "\n",
    "    conn.request(\"GET\", \"/api/tracking/consultar\", payload, headersList)\n",
    "    response = conn.getresponse()\n",
    "    result = response.read()\n",
    "\n",
    "    for obj in json.loads(result.decode('utf-8'))['consulta']:\n",
    "        if len(obj['tracking']['eventos']) > 1:\n",
    "            return True\n",
    "    return False\n",
    " \n",
    "def kangu(code: str) -> bool:\n",
    "    conn = http.client.HTTPSConnection(\"portal.kangu.com.br\")\n",
    "\n",
    "    headersList = {\n",
    "        \"Accept\": \"*/*\",\n",
    "        \"token\": os.getenv('KANGU_TOKEN')\n",
    "    }\n",
    "\n",
    "    url = f'/tms/transporte/rastrear/{code.replace(\" \", \"\")}'\n",
    "    conn.request(\"GET\", url, \"\", headersList)\n",
    "\n",
    "    response = conn.getresponse()\n",
    "    if response.status != 200:\n",
    "        return False\n",
    "\n",
    "    result = response.read()\n",
    "    return True if len(json.loads(result.decode('utf-8'))['historico']) > 1 else False\n",
    "\n",
    "def correios(code: str) -> bool:\n",
    "\n",
    "    conn = http.client.HTTPSConnection(\"webservice.correios.com.br\")\n",
    "\n",
    "    headersList = {\n",
    "        \"Content-Type\": \"text/xml; charset=utf-8\",\n",
    "        \"SOAPAction\": \"buscaEventos\" \n",
    "    }\n",
    "\n",
    "    usr = os.getenv('CORREIOS_USR')\n",
    "    pwd = os.getenv('CORREIOS_PWD')\n",
    "    payload = f'<?xml version=\"1.0\" encoding=\"ISO-8859-1\"?>\\n<SOAP-ENV:Envelope\\n xmlns:SOAP-ENV=\"http://schemas.xmlsoap.org/soap/envelope/\"\\n xmlns:ns=\"http://resource.webservice.correios.com.br/\"\\n xmlns:tns=\"http://resource.webservice.correios.com.br/\"\\n xmlns:xsi=\"http://www.w3.org/2001/XMLSchema-instance\">\\n <SOAP-ENV:Body>\\n <tns:buscaEventos>\\n <usuario>{usr}</usuario>\\n <senha>{pwd}</senha>\\n <tipo>L</tipo>\\n <resultado>T</resultado>\\n <lingua>101</lingua>\\n <objetos>{code}</objetos>\\n </tns:buscaEventos>\\n </SOAP-ENV:Body>\\n</SOAP-ENV:Envelope>'\n",
    "\n",
    "    conn.request(\"POST\", \"/service/rastro\", payload, headersList)\n",
    "    response = conn.getresponse()\n",
    "    result = response.read()\n",
    "\n",
    "    result = xmltodict.parse(result.decode(\"utf-8\"))\n",
    "\n",
    "    key = result['soapenv:Envelope']['soapenv:Body']['ns2:buscaEventosResponse']['return']['objeto']\n",
    "    return True if 'evento' in key and len(key['evento']) > 0 else False"
   ]
  },
  {
   "cell_type": "code",
   "execution_count": null,
   "id": "78590c79",
   "metadata": {},
   "outputs": [],
   "source": [
    "consultas = []\n",
    "\n",
    "for index, row in df.iterrows():\n",
    "    response = eval('%s(\"%s\")' % (row['shipping_service'], row['tracking_code']))\n",
    "\n",
    "    consultas.append(response)\n",
    "    print(f\"tracking_code: {row['tracking_code']}, servico: {row['shipping_service']}, r: {response}\")\n",
    "\n",
    "df = df.assign(has_tracking=consultas)"
   ]
  },
  {
   "cell_type": "code",
   "execution_count": null,
   "id": "1d66e7d1",
   "metadata": {},
   "outputs": [],
   "source": [
    "df.to_csv('files/inconsistencias-shipped_at.csv', index=False)\n"
   ]
  },
  {
   "cell_type": "code",
   "execution_count": null,
   "id": "85390f69",
   "metadata": {},
   "outputs": [],
   "source": [
    "bundles = ', '.join(map(str, df['bundle_id'].to_list()))\n",
    "\n",
    "query = f\"\"\"SELECT \n",
    "    unit_logs.action,\n",
    "    unit_logs.created_at,\n",
    "    unit_logs.unit_id,\n",
    "    unit_logs.user_id,\n",
    "    units.state unit_state\n",
    "FROM unit_logs \n",
    "INNER JOIN units ON units.id = unit_logs.unit_id\n",
    "WHERE units.bundle_id IN ({bundles})\n",
    "\"\"\"\n",
    "\n",
    "print(query)\n"
   ]
  }
 ],
 "metadata": {
  "kernelspec": {
   "display_name": "Python 3 (ipykernel)",
   "language": "python",
   "name": "python3"
  },
  "language_info": {
   "codemirror_mode": {
    "name": "ipython",
    "version": 3
   },
   "file_extension": ".py",
   "mimetype": "text/x-python",
   "name": "python",
   "nbconvert_exporter": "python",
   "pygments_lexer": "ipython3",
   "version": "3.11.0"
  }
 },
 "nbformat": 4,
 "nbformat_minor": 5
}
